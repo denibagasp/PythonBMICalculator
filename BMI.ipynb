{
 "cells": [
  {
   "cell_type": "code",
   "execution_count": 1,
   "id": "46eb872c",
   "metadata": {},
   "outputs": [
    {
     "name": "stdout",
     "output_type": "stream",
     "text": [
      "Enter your name: Deni\n",
      "Enter your weight in pounds: 70\n",
      "Emter your height in inches: 90\n",
      "6.075308641975309\n",
      "Deni. You are underweight.\n"
     ]
    }
   ],
   "source": [
    "name = input(\"Enter your name: \")\n",
    "weight = int(input(\"Enter your weight in pounds: \"))\n",
    "height = int(input(\"Emter your height in inches: \"))\n",
    "BMI = (weight * 703) / (height * height)\n",
    "print(BMI)\n",
    "\n",
    "if BMI > 0:\n",
    "    if(BMI<18.5):\n",
    "        print(name+\". You are underweight.\")\n",
    "    elif(BMI<=24.9):\n",
    "        print(name+\", You are normal weight.\")\n",
    "    elif(BMI<=29.9):\n",
    "        print(name+\", You are overweight.\")\n",
    "    elif(BMI<34.9):\n",
    "        print(name+\", You are obese.\")\n",
    "    elif(BMI<39.9):\n",
    "        print(name+\", You are severily obese.\")\n",
    "    elif(BMI>=40):\n",
    "        print(name+\", You are morbidly obese.\")\n",
    "    else:\n",
    "        print(\"Enter valid inputs\")"
   ]
  },
  {
   "cell_type": "code",
   "execution_count": null,
   "id": "64fc765b",
   "metadata": {},
   "outputs": [],
   "source": []
  },
  {
   "cell_type": "code",
   "execution_count": null,
   "id": "5aff2348",
   "metadata": {},
   "outputs": [],
   "source": []
  }
 ],
 "metadata": {
  "kernelspec": {
   "display_name": "Python 3 (ipykernel)",
   "language": "python",
   "name": "python3"
  },
  "language_info": {
   "codemirror_mode": {
    "name": "ipython",
    "version": 3
   },
   "file_extension": ".py",
   "mimetype": "text/x-python",
   "name": "python",
   "nbconvert_exporter": "python",
   "pygments_lexer": "ipython3",
   "version": "3.10.9"
  }
 },
 "nbformat": 4,
 "nbformat_minor": 5
}
